{
 "cells": [
  {
   "cell_type": "markdown",
   "metadata": {},
   "source": [
    "# Quantum World"
   ]
  },
  {
   "cell_type": "code",
   "execution_count": null,
   "metadata": {},
   "outputs": [
    {
     "ename": "ModuleNotFoundError",
     "evalue": "No module named 'qiskit'",
     "output_type": "error",
     "traceback": [
      "\u001b[0;31m---------------------------------------------------------------------------\u001b[0m\n",
      "\u001b[0;31mModuleNotFoundError\u001b[0m                       Traceback (most recent call last)\n",
      "Cell \u001b[0;32mIn[23], line 1\u001b[0m\n",
      "\u001b[0;32m----> 1\u001b[0m \u001b[38;5;28;01mfrom\u001b[39;00m \u001b[38;5;21;01mqiskit\u001b[39;00m \u001b[38;5;28;01mimport\u001b[39;00m QuantumCircuit, Aer, transpile, assemble\n",
      "\u001b[1;32m      2\u001b[0m \u001b[38;5;28;01mfrom\u001b[39;00m \u001b[38;5;21;01mqiskit\u001b[39;00m\u001b[38;5;21;01m.\u001b[39;00m\u001b[38;5;21;01mquantum_info\u001b[39;00m \u001b[38;5;28;01mimport\u001b[39;00m entanglement_of_formation, entropy, Statevector, DensityMatrix, partial_trace, purity\n",
      "\u001b[1;32m      3\u001b[0m \u001b[38;5;28;01mfrom\u001b[39;00m \u001b[38;5;21;01mqiskit\u001b[39;00m\u001b[38;5;21;01m.\u001b[39;00m\u001b[38;5;21;01mvisualization\u001b[39;00m \u001b[38;5;28;01mimport\u001b[39;00m array_to_latex\n",
      "\n",
      "\u001b[0;31mModuleNotFoundError\u001b[0m: No module named 'qiskit'"
     ]
    }
   ],
   "source": [
    "from qiskit import QuantumCircuit, Aer, transpile, assemble\n",
    "from qiskit.quantum_info import entanglement_of_formation, entropy, Statevector, DensityMatrix, partial_trace, purity\n",
    "from qiskit.visualization import array_to_latex"
   ]
  },
  {
   "cell_type": "code",
   "execution_count": null,
   "metadata": {},
   "outputs": [
    {
     "data": {
      "text/plain": [
       "0.9999999999999999"
      ]
     },
     "metadata": {},
     "output_type": "display_data"
    }
   ],
   "source": [
    "import numpy as np\n",
    "li = np.sqrt(0.5) #shortcut for 1/sqrt(2)\n",
    "\n",
    "bell = [li, 0, 0, li]\n",
    "entanglement_of_formation(bell)\n"
   ]
  },
  {
   "cell_type": "code",
   "execution_count": null,
   "metadata": {},
   "outputs": [],
   "source": [
    "def adjmat_to_edges(adj_matrix):\n",
    "    \"\"\"\n",
    "    Converts an adjacency matrix representation of a graph to a list of edges.\n",
    "\n",
    "    Parameters:\n",
    "    - adj_matrix (list of lists): An adjacency matrix where adj_matrix[i][j] is 1 if there is an edge between nodes i and j, and 0 otherwise.\n",
    "\n",
    "    Returns:\n",
    "    - edges (list of lists): A list of edges represented as pairs [node1, node2]. Each sub-list in the result represents an edge in the graph.\n",
    "    \"\"\"\n",
    "    edges = []\n",
    "    num_nodes = len(adj_matrix)\n",
    "\n",
    "    for i in range(num_nodes):\n",
    "        for j in range(i + 1, num_nodes):\n",
    "            if adj_matrix[i][j] == 1:\n",
    "                edges.append([i, j])\n",
    "\n",
    "    return edges"
   ]
  },
  {
   "cell_type": "code",
   "execution_count": null,
   "metadata": {},
   "outputs": [],
   "source": [
    "graph_adjmat = adj_mats[0]"
   ]
  },
  {
   "cell_type": "code",
   "execution_count": null,
   "metadata": {},
   "outputs": [
    {
     "name": "stdout",
     "output_type": "stream",
     "text": [
      "Edge representation of the above graph state is: [[0, 5], [1, 5], [2, 5], [3, 5], [4, 5]]\n"
     ]
    }
   ],
   "source": [
    "graph = adjmat_to_edges(graph_adjmat)\n",
    "print('Edge representation of the above graph state is:', graph)"
   ]
  },
  {
   "cell_type": "code",
   "execution_count": null,
   "metadata": {},
   "outputs": [],
   "source": [
    "# Create a Quantum Circuit acting on a quantum register of three qubits\n",
    "circ = QuantumCircuit(n)\n",
    "# Add a H gate on qubit 0, putting this qubit in superposition.\n",
    "for i in range(n):\n",
    "    circ.h(i)"
   ]
  },
  {
   "cell_type": "code",
   "execution_count": null,
   "metadata": {},
   "outputs": [
    {
     "data": {
      "image/png": "[encoded data removed]",
      "text/plain": [
       "<Figure size 621.941x535.111 with 1 Axes>"
      ]
     },
     "metadata": {},
     "output_type": "display_data"
    }
   ],
   "source": [
    "for i in graph:\n",
    "    circ.cz(i[0], i[1])\n",
    "\n",
    "circ.draw('mpl', style='clifford')"
   ]
  },
  {
   "cell_type": "code",
   "execution_count": null,
   "metadata": {},
   "outputs": [
    {
     "name": "stdout",
     "output_type": "stream",
     "text": [
      "Density Matrix\n"
     ]
    },
    {
     "data": {
      "text/latex": [
       "$$\n",
       "\n",
       "\\begin{bmatrix}\n",
       "0.015625 & 0.015625 & 0.015625 & 0.015625 & \\cdots & 0.015625 & 0.015625 & -0.015625  \\\\\n",
       " 0.015625 & 0.015625 & 0.015625 & 0.015625 & \\cdots & 0.015625 & 0.015625 & -0.015625  \\\\\n",
       " 0.015625 & 0.015625 & 0.015625 & 0.015625 & \\cdots & 0.015625 & 0.015625 & -0.015625  \\\\\n",
       " 0.015625 & 0.015625 & 0.015625 & 0.015625 & \\cdots & 0.015625 & 0.015625 & -0.015625  \\\\\n",
       " \\vdots & \\vdots & \\vdots & \\vdots & \\ddots & \\vdots & \\vdots & \\vdots \\\\\n",
       " 0.015625 & 0.015625 & 0.015625 & 0.015625 & \\cdots & 0.015625 & 0.015625 & -0.015625  \\\\\n",
       " 0.015625 & 0.015625 & 0.015625 & 0.015625 & \\cdots & 0.015625 & 0.015625 & -0.015625  \\\\\n",
       " -0.015625 & -0.015625 & -0.015625 & -0.015625 & \\cdots & -0.015625 & -0.015625 & 0.015625  \\\\\n",
       " \\end{bmatrix}\n",
       "$$"
      ],
      "text/plain": [
       "<IPython.core.display.Latex object>"
      ]
     },
     "metadata": {},
     "output_type": "display_data"
    }
   ],
   "source": [
    "DM=DensityMatrix.from_instruction(circ)\n",
    "print('Density Matrix')\n",
    "DM.draw('latex')"
   ]
  },
  {
   "cell_type": "code",
   "execution_count": null,
   "metadata": {},
   "outputs": [
    {
     "data": {
      "text/plain": [
       "1.28795082258716e-15"
      ]
     },
     "metadata": {},
     "output_type": "display_data"
    }
   ],
   "source": [
    "entropy(DM)"
   ]
  },
  {
   "cell_type": "code",
   "execution_count": null,
   "metadata": {},
   "outputs": [
    {
     "data": {
      "text/latex": [
       "$$\n",
       "\n",
       "\\begin{bmatrix}\n",
       "\\frac{1}{32} & \\frac{1}{32} & \\frac{1}{32} & \\frac{1}{32} & \\cdots & 0 & 0 & 0  \\\\\n",
       " \\frac{1}{32} & \\frac{1}{32} & \\frac{1}{32} & \\frac{1}{32} & \\cdots & 0 & 0 & 0  \\\\\n",
       " \\frac{1}{32} & \\frac{1}{32} & \\frac{1}{32} & \\frac{1}{32} & \\cdots & 0 & 0 & 0  \\\\\n",
       " \\frac{1}{32} & \\frac{1}{32} & \\frac{1}{32} & \\frac{1}{32} & \\cdots & 0 & 0 & 0  \\\\\n",
       " \\vdots & \\vdots & \\vdots & \\vdots & \\ddots & \\vdots & \\vdots & \\vdots \\\\\n",
       " 0 & 0 & 0 & 0 & \\cdots & \\frac{1}{32} & \\frac{1}{32} & - \\frac{1}{32}  \\\\\n",
       " 0 & 0 & 0 & 0 & \\cdots & \\frac{1}{32} & \\frac{1}{32} & - \\frac{1}{32}  \\\\\n",
       " 0 & 0 & 0 & 0 & \\cdots & - \\frac{1}{32} & - \\frac{1}{32} & \\frac{1}{32}  \\\\\n",
       " \\end{bmatrix}\n",
       "$$"
      ],
      "text/plain": [
       "<IPython.core.display.Latex object>"
      ]
     },
     "metadata": {},
     "output_type": "display_data"
    }
   ],
   "source": [
    "rho_a = partial_trace(state=DM, qargs=[0])\n",
    "rho_a.draw('latex')"
   ]
  },
  {
   "cell_type": "code",
   "execution_count": null,
   "metadata": {},
   "outputs": [
    {
     "name": "stdout",
     "output_type": "stream",
     "text": [
      "[[ 0.03125  0.03125  0.03125 ...  0.       0.       0.     ]\n",
      " [ 0.03125  0.03125  0.03125 ...  0.       0.       0.     ]\n",
      " [ 0.03125  0.03125  0.03125 ...  0.       0.       0.     ]\n",
      " ...\n",
      " [ 0.       0.       0.      ...  0.03125  0.03125 -0.03125]\n",
      " [ 0.       0.       0.      ...  0.03125  0.03125 -0.03125]\n",
      " [ 0.       0.       0.      ... -0.03125 -0.03125  0.03125]]\n"
     ]
    },
    {
     "name": "stderr",
     "output_type": "stream",
     "text": [
      "c:\\Users\\me\\AppData\\Local\\Programs\\Python\\Python311\\Lib\\site-packages\\qiskit\\quantum_info\\states\\densitymatrix.py:115: ComplexWarning:\n",
      "\n",
      "Casting complex values to real discards the imaginary part\n",
      "\n"
     ]
    },
    {
     "ename": "ValueError",
     "evalue": "Found array with dim 3. the normalize function expected <= 2.",
     "output_type": "error",
     "traceback": [
      "\u001b[1;31m---------------------------------------------------------------------------\u001b[0m\n",
      "\u001b[1;31mValueError\u001b[0m                                Traceback (most recent call last)\n",
      "\u001b[1;32mc:\\Users\\me\\code\\projects\\gt\\stabilizer.ipynb Cell 36\u001b[0m line \u001b[0;36m6\n",
      "\u001b[0;32m      <a href='vscode-notebook-cell:/c%3A/Users/me/code/projects/gt/stabilizer.ipynb#X43sZmlsZQ%3D%3D?line=3'>4</a>\u001b[0m norm1 \u001b[39m=\u001b[39m x \u001b[39m/\u001b[39m np\u001b[39m.\u001b[39mlinalg\u001b[39m.\u001b[39mnorm(x)\n",
      "\u001b[0;32m      <a href='vscode-notebook-cell:/c%3A/Users/me/code/projects/gt/stabilizer.ipynb#X43sZmlsZQ%3D%3D?line=4'>5</a>\u001b[0m \u001b[39mprint\u001b[39m(x)\n",
      "\u001b[1;32m----> <a href='vscode-notebook-cell:/c%3A/Users/me/code/projects/gt/stabilizer.ipynb#X43sZmlsZQ%3D%3D?line=5'>6</a>\u001b[0m norm2 \u001b[39m=\u001b[39m normalize(x[:,np\u001b[39m.\u001b[39;49mnewaxis], axis\u001b[39m=\u001b[39;49m\u001b[39m0\u001b[39;49m)\u001b[39m.\u001b[39mravel()\n",
      "\u001b[0;32m      <a href='vscode-notebook-cell:/c%3A/Users/me/code/projects/gt/stabilizer.ipynb#X43sZmlsZQ%3D%3D?line=6'>7</a>\u001b[0m \u001b[39mprint\u001b[39m(np\u001b[39m.\u001b[39mall(norm1 \u001b[39m==\u001b[39m norm2))\n",
      "\n",
      "File \u001b[1;32mc:\\Users\\me\\AppData\\Local\\Programs\\Python\\Python311\\Lib\\site-packages\\sklearn\\utils\\_param_validation.py:214\u001b[0m, in \u001b[0;36mvalidate_params.<locals>.decorator.<locals>.wrapper\u001b[1;34m(*args, **kwargs)\u001b[0m\n",
      "\u001b[0;32m    208\u001b[0m \u001b[39mtry\u001b[39;00m:\n",
      "\u001b[0;32m    209\u001b[0m     \u001b[39mwith\u001b[39;00m config_context(\n",
      "\u001b[0;32m    210\u001b[0m         skip_parameter_validation\u001b[39m=\u001b[39m(\n",
      "\u001b[0;32m    211\u001b[0m             prefer_skip_nested_validation \u001b[39mor\u001b[39;00m global_skip_validation\n",
      "\u001b[0;32m    212\u001b[0m         )\n",
      "\u001b[0;32m    213\u001b[0m     ):\n",
      "\u001b[1;32m--> 214\u001b[0m         \u001b[39mreturn\u001b[39;00m func(\u001b[39m*\u001b[39;49margs, \u001b[39m*\u001b[39;49m\u001b[39m*\u001b[39;49mkwargs)\n",
      "\u001b[0;32m    215\u001b[0m \u001b[39mexcept\u001b[39;00m InvalidParameterError \u001b[39mas\u001b[39;00m e:\n",
      "\u001b[0;32m    216\u001b[0m     \u001b[39m# When the function is just a wrapper around an estimator, we allow\u001b[39;00m\n",
      "\u001b[0;32m    217\u001b[0m     \u001b[39m# the function to delegate validation to the estimator, but we replace\u001b[39;00m\n",
      "\u001b[0;32m    218\u001b[0m     \u001b[39m# the name of the estimator by the name of the function in the error\u001b[39;00m\n",
      "\u001b[0;32m    219\u001b[0m     \u001b[39m# message to avoid confusion.\u001b[39;00m\n",
      "\u001b[0;32m    220\u001b[0m     msg \u001b[39m=\u001b[39m re\u001b[39m.\u001b[39msub(\n",
      "\u001b[0;32m    221\u001b[0m         \u001b[39mr\u001b[39m\u001b[39m\"\u001b[39m\u001b[39mparameter of \u001b[39m\u001b[39m\\\u001b[39m\u001b[39mw+ must be\u001b[39m\u001b[39m\"\u001b[39m,\n",
      "\u001b[0;32m    222\u001b[0m         \u001b[39mf\u001b[39m\u001b[39m\"\u001b[39m\u001b[39mparameter of \u001b[39m\u001b[39m{\u001b[39;00mfunc\u001b[39m.\u001b[39m\u001b[39m__qualname__\u001b[39m\u001b[39m}\u001b[39;00m\u001b[39m must be\u001b[39m\u001b[39m\"\u001b[39m,\n",
      "\u001b[0;32m    223\u001b[0m         \u001b[39mstr\u001b[39m(e),\n",
      "\u001b[0;32m    224\u001b[0m     )\n",
      "\n",
      "File \u001b[1;32mc:\\Users\\me\\AppData\\Local\\Programs\\Python\\Python311\\Lib\\site-packages\\sklearn\\preprocessing\\_data.py:1841\u001b[0m, in \u001b[0;36mnormalize\u001b[1;34m(X, norm, axis, copy, return_norm)\u001b[0m\n",
      "\u001b[0;32m   1838\u001b[0m \u001b[39melse\u001b[39;00m:  \u001b[39m# axis == 1:\u001b[39;00m\n",
      "\u001b[0;32m   1839\u001b[0m     sparse_format \u001b[39m=\u001b[39m \u001b[39m\"\u001b[39m\u001b[39mcsr\u001b[39m\u001b[39m\"\u001b[39m\n",
      "\u001b[1;32m-> 1841\u001b[0m X \u001b[39m=\u001b[39m check_array(\n",
      "\u001b[0;32m   1842\u001b[0m     X,\n",
      "\u001b[0;32m   1843\u001b[0m     accept_sparse\u001b[39m=\u001b[39;49msparse_format,\n",
      "\u001b[0;32m   1844\u001b[0m     copy\u001b[39m=\u001b[39;49mcopy,\n",
      "\u001b[0;32m   1845\u001b[0m     estimator\u001b[39m=\u001b[39;49m\u001b[39m\"\u001b[39;49m\u001b[39mthe normalize function\u001b[39;49m\u001b[39m\"\u001b[39;49m,\n",
      "\u001b[0;32m   1846\u001b[0m     dtype\u001b[39m=\u001b[39;49mFLOAT_DTYPES,\n",
      "\u001b[0;32m   1847\u001b[0m )\n",
      "\u001b[0;32m   1848\u001b[0m \u001b[39mif\u001b[39;00m axis \u001b[39m==\u001b[39m \u001b[39m0\u001b[39m:\n",
      "\u001b[0;32m   1849\u001b[0m     X \u001b[39m=\u001b[39m X\u001b[39m.\u001b[39mT\n",
      "\n",
      "File \u001b[1;32mc:\\Users\\me\\AppData\\Local\\Programs\\Python\\Python311\\Lib\\site-packages\\sklearn\\utils\\validation.py:951\u001b[0m, in \u001b[0;36mcheck_array\u001b[1;34m(array, accept_sparse, accept_large_sparse, dtype, order, copy, force_all_finite, ensure_2d, allow_nd, ensure_min_samples, ensure_min_features, estimator, input_name)\u001b[0m\n",
      "\u001b[0;32m    946\u001b[0m     \u001b[39mraise\u001b[39;00m \u001b[39mValueError\u001b[39;00m(\n",
      "\u001b[0;32m    947\u001b[0m         \u001b[39m\"\u001b[39m\u001b[39mdtype=\u001b[39m\u001b[39m'\u001b[39m\u001b[39mnumeric\u001b[39m\u001b[39m'\u001b[39m\u001b[39m is not compatible with arrays of bytes/strings.\u001b[39m\u001b[39m\"\u001b[39m\n",
      "\u001b[0;32m    948\u001b[0m         \u001b[39m\"\u001b[39m\u001b[39mConvert your data to numeric values explicitly instead.\u001b[39m\u001b[39m\"\u001b[39m\n",
      "\u001b[0;32m    949\u001b[0m     )\n",
      "\u001b[0;32m    950\u001b[0m \u001b[39mif\u001b[39;00m \u001b[39mnot\u001b[39;00m allow_nd \u001b[39mand\u001b[39;00m array\u001b[39m.\u001b[39mndim \u001b[39m>\u001b[39m\u001b[39m=\u001b[39m \u001b[39m3\u001b[39m:\n",
      "\u001b[1;32m--> 951\u001b[0m     \u001b[39mraise\u001b[39;00m \u001b[39mValueError\u001b[39;00m(\n",
      "\u001b[0;32m    952\u001b[0m         \u001b[39m\"\u001b[39m\u001b[39mFound array with dim \u001b[39m\u001b[39m%d\u001b[39;00m\u001b[39m. \u001b[39m\u001b[39m%s\u001b[39;00m\u001b[39m expected <= 2.\u001b[39m\u001b[39m\"\u001b[39m\n",
      "\u001b[0;32m    953\u001b[0m         \u001b[39m%\u001b[39m (array\u001b[39m.\u001b[39mndim, estimator_name)\n",
      "\u001b[0;32m    954\u001b[0m     )\n",
      "\u001b[0;32m    956\u001b[0m \u001b[39mif\u001b[39;00m force_all_finite:\n",
      "\u001b[0;32m    957\u001b[0m     _assert_all_finite(\n",
      "\u001b[0;32m    958\u001b[0m         array,\n",
      "\u001b[0;32m    959\u001b[0m         input_name\u001b[39m=\u001b[39minput_name,\n",
      "\u001b[0;32m    960\u001b[0m         estimator_name\u001b[39m=\u001b[39mestimator_name,\n",
      "\u001b[0;32m    961\u001b[0m         allow_nan\u001b[39m=\u001b[39mforce_all_finite \u001b[39m==\u001b[39m \u001b[39m\"\u001b[39m\u001b[39mallow-nan\u001b[39m\u001b[39m\"\u001b[39m,\n",
      "\u001b[0;32m    962\u001b[0m     )\n",
      "\n",
      "\u001b[1;31mValueError\u001b[0m: Found array with dim 3. the normalize function expected <= 2."
     ]
    }
   ],
   "source": [
    "from sklearn.preprocessing import normalize\n",
    "\n",
    "x = np.array(rho_a, dtype=float)\n",
    "norm1 = x / np.linalg.norm(x)\n",
    "print(x)\n",
    "norm2 = normalize(x[:,np.newaxis], axis=0).ravel()\n",
    "print(np.all(norm1 == norm2))"
   ]
  },
  {
   "cell_type": "code",
   "execution_count": null,
   "metadata": {},
   "outputs": [
    {
     "name": "stderr",
     "output_type": "stream",
     "text": [
      "c:\\Users\\me\\AppData\\Local\\Programs\\Python\\Python311\\Lib\\site-packages\\qiskit\\quantum_info\\states\\densitymatrix.py:115: ComplexWarning: Casting complex values to real discards the imaginary part\n",
      "  return np.asarray(self.data, dtype=dtype)\n"
     ]
    },
    {
     "data": {
      "text/plain": [
       "array([[0.5, 0. ],\n",
       "       [0. , 0.5]])"
      ]
     },
     "metadata": {},
     "output_type": "display_data"
    }
   ],
   "source": [
    "np.array(rho_a, dtype=float)"
   ]
  },
  {
   "cell_type": "code",
   "execution_count": null,
   "metadata": {},
   "outputs": [
    {
     "ename": "QiskitError",
     "evalue": "'Input density matrix must be a 2-qubit state.'",
     "output_type": "error",
     "traceback": [
      "\u001b[1;31m---------------------------------------------------------------------------\u001b[0m\n",
      "\u001b[1;31mQiskitError\u001b[0m                               Traceback (most recent call last)\n",
      "\u001b[1;32mc:\\Users\\me\\code\\projects\\gt\\stabilizer.ipynb Cell 32\u001b[0m line \u001b[0;36m1\n",
      "\u001b[1;32m----> <a href='vscode-notebook-cell:/c%3A/Users/me/code/projects/gt/stabilizer.ipynb#X66sZmlsZQ%3D%3D?line=0'>1</a>\u001b[0m entanglement_of_formation(np\u001b[39m.\u001b[39;49marray(rho_a, dtype\u001b[39m=\u001b[39;49m\u001b[39mfloat\u001b[39;49m))\n",
      "\n",
      "File \u001b[1;32mc:\\Users\\me\\AppData\\Local\\Programs\\Python\\Python311\\Lib\\site-packages\\qiskit\\quantum_info\\states\\measures.py:254\u001b[0m, in \u001b[0;36mentanglement_of_formation\u001b[1;34m(state)\u001b[0m\n",
      "\u001b[0;32m    252\u001b[0m \u001b[39m# If input is a density matrix it must be a 2-qubit state\u001b[39;00m\n",
      "\u001b[0;32m    253\u001b[0m \u001b[39mif\u001b[39;00m state\u001b[39m.\u001b[39mdim \u001b[39m!=\u001b[39m \u001b[39m4\u001b[39m:\n",
      "\u001b[1;32m--> 254\u001b[0m     \u001b[39mraise\u001b[39;00m QiskitError(\u001b[39m\"\u001b[39m\u001b[39mInput density matrix must be a 2-qubit state.\u001b[39m\u001b[39m\"\u001b[39m)\n",
      "\u001b[0;32m    255\u001b[0m conc \u001b[39m=\u001b[39m concurrence(state)\n",
      "\u001b[0;32m    256\u001b[0m val \u001b[39m=\u001b[39m (\u001b[39m1\u001b[39m \u001b[39m+\u001b[39m np\u001b[39m.\u001b[39msqrt(\u001b[39m1\u001b[39m \u001b[39m-\u001b[39m (conc\u001b[39m*\u001b[39m\u001b[39m*\u001b[39m\u001b[39m2\u001b[39m))) \u001b[39m/\u001b[39m \u001b[39m2\u001b[39m\n",
      "\n",
      "\u001b[1;31mQiskitError\u001b[0m: 'Input density matrix must be a 2-qubit state.'"
     ]
    }
   ],
   "source": [
    "entanglement_of_formation(np.array(rho_a, dtype=float))"
   ]
  },
  {
   "cell_type": "code",
   "execution_count": null,
   "metadata": {},
   "outputs": [
    {
     "name": "stdout",
     "output_type": "stream",
     "text": [
      "Partial Trace\n"
     ]
    },
    {
     "data": {
      "text/latex": [
       "$$\n",
       "\n",
       "\\begin{bmatrix}\n",
       "\\frac{1}{4} & \\frac{1}{4} & 0 & 0  \\\\\n",
       " \\frac{1}{4} & \\frac{1}{4} & 0 & 0  \\\\\n",
       " 0 & 0 & \\frac{1}{4} & - \\frac{1}{4}  \\\\\n",
       " 0 & 0 & - \\frac{1}{4} & \\frac{1}{4}  \\\\\n",
       " \\end{bmatrix}\n",
       "$$"
      ],
      "text/plain": [
       "<IPython.core.display.Latex object>"
      ]
     },
     "metadata": {},
     "output_type": "display_data"
    }
   ],
   "source": [
    "PT=partial_trace(DM,[0])\n",
    "print('Partial Trace')\n",
    "PT.draw('latex')"
   ]
  },
  {
   "cell_type": "code",
   "execution_count": null,
   "metadata": {},
   "outputs": [
    {
     "data": {
      "text/latex": [
       "$$ |000\\rangle$$"
      ],
      "text/plain": [
       "<IPython.core.display.Latex object>"
      ]
     },
     "metadata": {},
     "output_type": "display_data"
    }
   ],
   "source": [
    "# Set the initial state of the simulator to the ground state using from_int\n",
    "state = Statevector.from_int(0, 2**n)\n",
    "state.draw('latex')"
   ]
  },
  {
   "cell_type": "code",
   "execution_count": null,
   "metadata": {},
   "outputs": [
    {
     "data": {
      "text/latex": [
       "$$\\frac{\\sqrt{2}}{4} |000\\rangle+\\frac{\\sqrt{2}}{4} |001\\rangle+\\frac{\\sqrt{2}}{4} |010\\rangle+\\frac{\\sqrt{2}}{4} |011\\rangle+\\frac{\\sqrt{2}}{4} |100\\rangle- \\frac{\\sqrt{2}}{4} |101\\rangle- \\frac{\\sqrt{2}}{4} |110\\rangle+\\frac{\\sqrt{2}}{4} |111\\rangle$$"
      ],
      "text/plain": [
       "<IPython.core.display.Latex object>"
      ]
     },
     "metadata": {},
     "output_type": "display_data"
    }
   ],
   "source": [
    "# Evolve the state by the quantum circuit\n",
    "state = state.evolve(circ)\n",
    "\n",
    "# 'text', 'latex', 'latex_source', 'qsphere', 'hinton', 'bloch', 'city' or 'paulivec'.\n",
    "state.draw('latex')"
   ]
  },
  {
   "cell_type": "code",
   "execution_count": null,
   "metadata": {},
   "outputs": [
    {
     "name": "stdout",
     "output_type": "stream",
     "text": [
      "Entropy for the state is 0 while the entropy for rho_a is 1.0000000000000004.\n"
     ]
    }
   ],
   "source": [
    "print(f'Entropy for the state is {entropy(state)} while the entropy for rho_a is {entropy(rho_a)}.')"
   ]
  },
  {
   "cell_type": "code",
   "execution_count": null,
   "metadata": {},
   "outputs": [
    {
     "data": {
      "text/latex": [
       "$$\n",
       "\n",
       "\\begin{bmatrix}\n",
       "\\frac{\\sqrt{2}}{4} & \\frac{\\sqrt{2}}{4} & \\frac{\\sqrt{2}}{4} & \\frac{\\sqrt{2}}{4} & \\frac{\\sqrt{2}}{4} & - \\frac{\\sqrt{2}}{4} & - \\frac{\\sqrt{2}}{4} & \\frac{\\sqrt{2}}{4}  \\\\\n",
       " \\end{bmatrix}\n",
       "$$"
      ],
      "text/plain": [
       "<IPython.core.display.Latex object>"
      ]
     },
     "metadata": {},
     "output_type": "display_data"
    }
   ],
   "source": [
    "#Alternative way of representing in latex\n",
    "array_to_latex(state)"
   ]
  },
  {
   "cell_type": "code",
   "execution_count": null,
   "metadata": {},
   "outputs": [
    {
     "data": {
      "image/png": "[encoded data removed]",
      "text/plain": [
       "<Figure size 700x700 with 2 Axes>"
      ]
     },
     "metadata": {},
     "output_type": "display_data"
    }
   ],
   "source": [
    "state.draw('qsphere')"
   ]
  },
  {
   "cell_type": "code",
   "execution_count": null,
   "metadata": {},
   "outputs": [],
   "source": [
    "def calculate_entropy(statevector):\n",
    "    rho = np.outer(statevector, statevector.conj())\n",
    "    return entropy(rho, base=2)"
   ]
  },
  {
   "cell_type": "code",
   "execution_count": null,
   "metadata": {},
   "outputs": [
    {
     "ename": "MissingOptionalLibraryError",
     "evalue": "\"The 'qiskit-aer' library is required to use 'Aer provider'. You can install it with 'pip install qiskit-aer'.\"",
     "output_type": "error",
     "traceback": [
      "\u001b[1;31m---------------------------------------------------------------------------\u001b[0m\n",
      "\u001b[1;31mImportError\u001b[0m                               Traceback (most recent call last)\n",
      "File \u001b[1;32mc:\\Users\\me\\AppData\\Local\\Programs\\Python\\Python311\\Lib\\site-packages\\qiskit\\__init__.py:123\u001b[0m, in \u001b[0;36mAerWrapper.__getattr__\u001b[1;34m(self, attr)\u001b[0m\n",
      "\u001b[0;32m    122\u001b[0m \u001b[39mtry\u001b[39;00m:\n",
      "\u001b[1;32m--> 123\u001b[0m     \u001b[39mfrom\u001b[39;00m \u001b[39mqiskit\u001b[39;00m\u001b[39m.\u001b[39;00m\u001b[39mproviders\u001b[39;00m \u001b[39mimport\u001b[39;00m aer\n",
      "\u001b[0;32m    125\u001b[0m     \u001b[39mself\u001b[39m\u001b[39m.\u001b[39maer \u001b[39m=\u001b[39m aer\u001b[39m.\u001b[39mAer\n",
      "\n",
      "\u001b[1;31mImportError\u001b[0m: cannot import name 'aer' from 'qiskit.providers' (c:\\Users\\me\\AppData\\Local\\Programs\\Python\\Python311\\Lib\\site-packages\\qiskit\\providers\\__init__.py)\n",
      "\n",
      "The above exception was the direct cause of the following exception:\n",
      "\n",
      "\u001b[1;31mMissingOptionalLibraryError\u001b[0m               Traceback (most recent call last)\n",
      "\u001b[1;32mc:\\Users\\me\\code\\projects\\gt\\stabilizer.ipynb Cell 38\u001b[0m line \u001b[0;36m1\n",
      "\u001b[1;32m----> <a href='vscode-notebook-cell:/c%3A/Users/me/code/projects/gt/stabilizer.ipynb#X55sZmlsZQ%3D%3D?line=0'>1</a>\u001b[0m simulator \u001b[39m=\u001b[39m Aer\u001b[39m.\u001b[39;49mget_backend(\u001b[39m'\u001b[39m\u001b[39mstatevector_simulator\u001b[39m\u001b[39m'\u001b[39m)\n",
      "\u001b[0;32m      <a href='vscode-notebook-cell:/c%3A/Users/me/code/projects/gt/stabilizer.ipynb#X55sZmlsZQ%3D%3D?line=1'>2</a>\u001b[0m tqc \u001b[39m=\u001b[39m transpile(circ, simulator)\n",
      "\u001b[0;32m      <a href='vscode-notebook-cell:/c%3A/Users/me/code/projects/gt/stabilizer.ipynb#X55sZmlsZQ%3D%3D?line=2'>3</a>\u001b[0m result \u001b[39m=\u001b[39m simulator\u001b[39m.\u001b[39mrun(tqc)\u001b[39m.\u001b[39mresult()\n",
      "\n",
      "File \u001b[1;32mc:\\Users\\me\\AppData\\Local\\Programs\\Python\\Python311\\Lib\\site-packages\\qiskit\\__init__.py:134\u001b[0m, in \u001b[0;36mAerWrapper.__getattr__\u001b[1;34m(self, attr)\u001b[0m\n",
      "\u001b[0;32m    126\u001b[0m         warnings\u001b[39m.\u001b[39mwarn(\n",
      "\u001b[0;32m    127\u001b[0m             \u001b[39m\"\u001b[39m\u001b[39mThe qiskit.Aer entry point will be deprecated in a future release and \u001b[39m\u001b[39m\"\u001b[39m\n",
      "\u001b[0;32m    128\u001b[0m             \u001b[39m\"\u001b[39m\u001b[39msubsequently removed. Instead you should use this \u001b[39m\u001b[39m\"\u001b[39m\n",
      "\u001b[1;32m   (...)\u001b[0m\n",
      "\u001b[0;32m    131\u001b[0m             stacklevel\u001b[39m=\u001b[39m\u001b[39m2\u001b[39m,\n",
      "\u001b[0;32m    132\u001b[0m         )\n",
      "\u001b[0;32m    133\u001b[0m     \u001b[39mexcept\u001b[39;00m \u001b[39mImportError\u001b[39;00m \u001b[39mas\u001b[39;00m ex:\n",
      "\u001b[1;32m--> 134\u001b[0m         \u001b[39mraise\u001b[39;00m MissingOptionalLibraryError(\n",
      "\u001b[0;32m    135\u001b[0m             \u001b[39m\"\u001b[39m\u001b[39mqiskit-aer\u001b[39m\u001b[39m\"\u001b[39m, \u001b[39m\"\u001b[39m\u001b[39mAer provider\u001b[39m\u001b[39m\"\u001b[39m, \u001b[39m\"\u001b[39m\u001b[39mpip install qiskit-aer\u001b[39m\u001b[39m\"\u001b[39m\n",
      "\u001b[0;32m    136\u001b[0m         ) \u001b[39mfrom\u001b[39;00m \u001b[39mex\u001b[39;00m\n",
      "\u001b[0;32m    137\u001b[0m \u001b[39mreturn\u001b[39;00m \u001b[39mgetattr\u001b[39m(\u001b[39mself\u001b[39m\u001b[39m.\u001b[39maer, attr)\n",
      "\n",
      "\u001b[1;31mMissingOptionalLibraryError\u001b[0m: \"The 'qiskit-aer' library is required to use 'Aer provider'. You can install it with 'pip install qiskit-aer'.\""
     ]
    }
   ],
   "source": [
    "simulator = Aer.get_backend('statevector_simulator')\n",
    "tqc = transpile(circ, simulator)\n",
    "result = simulator.run(tqc).result()"
   ]
  },
  {
   "cell_type": "code",
   "execution_count": null,
   "metadata": {},
   "outputs": [
    {
     "name": "stdout",
     "output_type": "stream",
     "text": [
      "Von Neumann Entropy: 0\n"
     ]
    }
   ],
   "source": [
    "# rho_data = [[0.5, 0.3], [0.3, 0.5]]\n",
    "# density_matrix = DensityMatrix(rho_data)\n",
    "\n",
    "# Calculate and print the von Neumann entropy\n",
    "von_neumann_entropy = entropy(state, base=np.e)\n",
    "print(f\"Von Neumann Entropy: {von_neumann_entropy}\")"
   ]
  },
  {
   "cell_type": "code",
   "execution_count": null,
   "metadata": {},
   "outputs": [
    {
     "data": {
      "text/latex": [
       "$$\n",
       "\n",
       "\\begin{bmatrix}\n",
       "\\frac{1}{8} & \\frac{1}{8} & 0 & 0 & \\frac{1}{8} & - \\frac{1}{8} & 0 & 0  \\\\\n",
       " \\frac{1}{8} & \\frac{1}{8} & 0 & 0 & \\frac{1}{8} & - \\frac{1}{8} & 0 & 0  \\\\\n",
       " 0 & 0 & \\frac{1}{8} & \\frac{1}{8} & 0 & 0 & - \\frac{1}{8} & \\frac{1}{8}  \\\\\n",
       " 0 & 0 & \\frac{1}{8} & \\frac{1}{8} & 0 & 0 & - \\frac{1}{8} & \\frac{1}{8}  \\\\\n",
       " \\frac{1}{8} & \\frac{1}{8} & 0 & 0 & \\frac{1}{8} & - \\frac{1}{8} & 0 & 0  \\\\\n",
       " - \\frac{1}{8} & - \\frac{1}{8} & 0 & 0 & - \\frac{1}{8} & \\frac{1}{8} & 0 & 0  \\\\\n",
       " 0 & 0 & - \\frac{1}{8} & - \\frac{1}{8} & 0 & 0 & \\frac{1}{8} & - \\frac{1}{8}  \\\\\n",
       " 0 & 0 & \\frac{1}{8} & \\frac{1}{8} & 0 & 0 & - \\frac{1}{8} & \\frac{1}{8}  \\\\\n",
       " \\end{bmatrix}\n",
       "$$"
      ],
      "text/plain": [
       "<IPython.core.display.Latex object>"
      ]
     },
     "metadata": {},
     "output_type": "display_data"
    }
   ],
   "source": [
    "PT=partial_trace(state,[0])\n",
    "PT.draw('latex')"
   ]
  },
  {
   "cell_type": "code",
   "execution_count": null,
   "metadata": {},
   "outputs": [
    {
     "name": "stdout",
     "output_type": "stream",
     "text": [
      "DensityMatrix([[0.5+0.j, 0. +0.j],\n",
      "               [0. +0.j, 0.5+0.j]],\n",
      "              dims=(2,))\n"
     ]
    }
   ],
   "source": [
    "egst = [[1/2, 0, 0, -(1/2)], [0, 0, 0, 0], [0, 0, 0, 0], [-(1/2), 0, 0, 1/2]]\n",
    "partial_trace(egst, [1])"
   ]
  }
 ],
 "metadata": {
  "language_info": {
   "name": "python"
  }
 },
 "nbformat": 4,
 "nbformat_minor": 2
}
